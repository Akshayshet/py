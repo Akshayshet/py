{
  "nbformat": 4,
  "nbformat_minor": 0,
  "metadata": {
    "colab": {
      "name": "5_Performance_metrics_Instructions.ipynb",
      "provenance": [],
      "collapsed_sections": [],
      "toc_visible": true,
      "include_colab_link": true
    },
    "kernelspec": {
      "display_name": "Python 3",
      "language": "python",
      "name": "python3"
    },
    "language_info": {
      "codemirror_mode": {
        "name": "ipython",
        "version": 3
      },
      "file_extension": ".py",
      "mimetype": "text/x-python",
      "name": "python",
      "nbconvert_exporter": "python",
      "pygments_lexer": "ipython3",
      "version": "3.7.4"
    }
  },
  "cells": [
    {
      "cell_type": "markdown",
      "metadata": {
        "id": "view-in-github",
        "colab_type": "text"
      },
      "source": [
        "<a href=\"https://colab.research.google.com/github/Akshayshet/py/blob/master/5_Performance_metrics_Instructions.ipynb\" target=\"_parent\"><img src=\"https://colab.research.google.com/assets/colab-badge.svg\" alt=\"Open In Colab\"/></a>"
      ]
    },
    {
      "cell_type": "markdown",
      "metadata": {
        "colab_type": "text",
        "id": "s0Ej_bXyQvnV"
      },
      "source": [
        "# Compute performance metrics for the given Y and Y_score without sklearn"
      ]
    },
    {
      "cell_type": "code",
      "metadata": {
        "colab_type": "code",
        "id": "4CHb6NE7Qvnc",
        "colab": {}
      },
      "source": [
        "import numpy as np\n",
        "import pandas as pd\n",
        "# other than these two you should not import any other packages"
      ],
      "execution_count": 62,
      "outputs": []
    },
    {
      "cell_type": "markdown",
      "metadata": {
        "colab_type": "text",
        "id": "KbsWXuDaQvnq"
      },
      "source": [
        "<pre>\n",
        "<font color='red'><b>A.</b></font> Compute performance metrics for the given data <strong>5_a.csv</strong>\n",
        "   <b>Note 1:</b> in this data you can see number of positive points >> number of negatives points\n",
        "   <b>Note 2:</b> use pandas or numpy to read the data from <b>5_a.csv</b>\n",
        "   <b>Note 3:</b> you need to derive the class labels from given score</pre> $y^{pred}= \\text{[0 if y_score < 0.5 else 1]}$\n",
        "\n",
        "<pre>\n",
        "<ol>\n",
        "<li> Compute Confusion Matrix </li>\n",
        "<li> Compute F1 Score </li>\n",
        "<li> Compute AUC Score, you need to compute different thresholds and for each threshold compute tpr,fpr and then use               numpy.trapz(tpr_array, fpr_array) <a href='https://stackoverflow.com/q/53603376/4084039'>https://stackoverflow.com/q/53603376/4084039</a>, <a href='https://stackoverflow.com/a/39678975/4084039'>https://stackoverflow.com/a/39678975/4084039</a> Note: it should be numpy.trapz(tpr_array, fpr_array) not numpy.trapz(fpr_array, tpr_array)</li>\n",
        "<li> Compute Accuracy Score </li>\n",
        "</ol>\n",
        "</pre>"
      ]
    },
    {
      "cell_type": "code",
      "metadata": {
        "colab_type": "code",
        "id": "WaFLW7oBQvnt",
        "colab": {
          "base_uri": "https://localhost:8080/",
          "height": 343
        },
        "outputId": "f12f76c6-c4d8-4318-f3d9-b06c14a92d3d"
      },
      "source": [
        "# write your code here\n",
        "data=pd.read_csv(\"5_a.csv\")\n",
        "data.head(10)"
      ],
      "execution_count": 63,
      "outputs": [
        {
          "output_type": "execute_result",
          "data": {
            "text/html": [
              "<div>\n",
              "<style scoped>\n",
              "    .dataframe tbody tr th:only-of-type {\n",
              "        vertical-align: middle;\n",
              "    }\n",
              "\n",
              "    .dataframe tbody tr th {\n",
              "        vertical-align: top;\n",
              "    }\n",
              "\n",
              "    .dataframe thead th {\n",
              "        text-align: right;\n",
              "    }\n",
              "</style>\n",
              "<table border=\"1\" class=\"dataframe\">\n",
              "  <thead>\n",
              "    <tr style=\"text-align: right;\">\n",
              "      <th></th>\n",
              "      <th>y</th>\n",
              "      <th>proba</th>\n",
              "    </tr>\n",
              "  </thead>\n",
              "  <tbody>\n",
              "    <tr>\n",
              "      <th>0</th>\n",
              "      <td>1.0</td>\n",
              "      <td>0.637387</td>\n",
              "    </tr>\n",
              "    <tr>\n",
              "      <th>1</th>\n",
              "      <td>1.0</td>\n",
              "      <td>0.635165</td>\n",
              "    </tr>\n",
              "    <tr>\n",
              "      <th>2</th>\n",
              "      <td>1.0</td>\n",
              "      <td>0.766586</td>\n",
              "    </tr>\n",
              "    <tr>\n",
              "      <th>3</th>\n",
              "      <td>1.0</td>\n",
              "      <td>0.724564</td>\n",
              "    </tr>\n",
              "    <tr>\n",
              "      <th>4</th>\n",
              "      <td>1.0</td>\n",
              "      <td>0.889199</td>\n",
              "    </tr>\n",
              "    <tr>\n",
              "      <th>5</th>\n",
              "      <td>1.0</td>\n",
              "      <td>0.601600</td>\n",
              "    </tr>\n",
              "    <tr>\n",
              "      <th>6</th>\n",
              "      <td>1.0</td>\n",
              "      <td>0.666323</td>\n",
              "    </tr>\n",
              "    <tr>\n",
              "      <th>7</th>\n",
              "      <td>1.0</td>\n",
              "      <td>0.567012</td>\n",
              "    </tr>\n",
              "    <tr>\n",
              "      <th>8</th>\n",
              "      <td>1.0</td>\n",
              "      <td>0.650230</td>\n",
              "    </tr>\n",
              "    <tr>\n",
              "      <th>9</th>\n",
              "      <td>1.0</td>\n",
              "      <td>0.829346</td>\n",
              "    </tr>\n",
              "  </tbody>\n",
              "</table>\n",
              "</div>"
            ],
            "text/plain": [
              "     y     proba\n",
              "0  1.0  0.637387\n",
              "1  1.0  0.635165\n",
              "2  1.0  0.766586\n",
              "3  1.0  0.724564\n",
              "4  1.0  0.889199\n",
              "5  1.0  0.601600\n",
              "6  1.0  0.666323\n",
              "7  1.0  0.567012\n",
              "8  1.0  0.650230\n",
              "9  1.0  0.829346"
            ]
          },
          "metadata": {
            "tags": []
          },
          "execution_count": 63
        }
      ]
    },
    {
      "cell_type": "code",
      "metadata": {
        "id": "XDAyKIVMY6ZQ",
        "colab_type": "code",
        "colab": {
          "base_uri": "https://localhost:8080/",
          "height": 402
        },
        "outputId": "1dcaec5c-ce2d-4c43-c5f0-824e5bcf297f"
      },
      "source": [
        "def computeprob(proba):\n",
        "    if proba>0.5:\n",
        "        return 1\n",
        "    else:\n",
        "        return 0\n",
        "    \n",
        "data['ypred']= data.apply(lambda x:computeprob(x.proba),axis=1)\n",
        "data\n",
        "    "
      ],
      "execution_count": 64,
      "outputs": [
        {
          "output_type": "execute_result",
          "data": {
            "text/html": [
              "<div>\n",
              "<style scoped>\n",
              "    .dataframe tbody tr th:only-of-type {\n",
              "        vertical-align: middle;\n",
              "    }\n",
              "\n",
              "    .dataframe tbody tr th {\n",
              "        vertical-align: top;\n",
              "    }\n",
              "\n",
              "    .dataframe thead th {\n",
              "        text-align: right;\n",
              "    }\n",
              "</style>\n",
              "<table border=\"1\" class=\"dataframe\">\n",
              "  <thead>\n",
              "    <tr style=\"text-align: right;\">\n",
              "      <th></th>\n",
              "      <th>y</th>\n",
              "      <th>proba</th>\n",
              "      <th>ypred</th>\n",
              "    </tr>\n",
              "  </thead>\n",
              "  <tbody>\n",
              "    <tr>\n",
              "      <th>0</th>\n",
              "      <td>1.0</td>\n",
              "      <td>0.637387</td>\n",
              "      <td>1</td>\n",
              "    </tr>\n",
              "    <tr>\n",
              "      <th>1</th>\n",
              "      <td>1.0</td>\n",
              "      <td>0.635165</td>\n",
              "      <td>1</td>\n",
              "    </tr>\n",
              "    <tr>\n",
              "      <th>2</th>\n",
              "      <td>1.0</td>\n",
              "      <td>0.766586</td>\n",
              "      <td>1</td>\n",
              "    </tr>\n",
              "    <tr>\n",
              "      <th>3</th>\n",
              "      <td>1.0</td>\n",
              "      <td>0.724564</td>\n",
              "      <td>1</td>\n",
              "    </tr>\n",
              "    <tr>\n",
              "      <th>4</th>\n",
              "      <td>1.0</td>\n",
              "      <td>0.889199</td>\n",
              "      <td>1</td>\n",
              "    </tr>\n",
              "    <tr>\n",
              "      <th>...</th>\n",
              "      <td>...</td>\n",
              "      <td>...</td>\n",
              "      <td>...</td>\n",
              "    </tr>\n",
              "    <tr>\n",
              "      <th>10095</th>\n",
              "      <td>1.0</td>\n",
              "      <td>0.665371</td>\n",
              "      <td>1</td>\n",
              "    </tr>\n",
              "    <tr>\n",
              "      <th>10096</th>\n",
              "      <td>1.0</td>\n",
              "      <td>0.607961</td>\n",
              "      <td>1</td>\n",
              "    </tr>\n",
              "    <tr>\n",
              "      <th>10097</th>\n",
              "      <td>1.0</td>\n",
              "      <td>0.777724</td>\n",
              "      <td>1</td>\n",
              "    </tr>\n",
              "    <tr>\n",
              "      <th>10098</th>\n",
              "      <td>1.0</td>\n",
              "      <td>0.846036</td>\n",
              "      <td>1</td>\n",
              "    </tr>\n",
              "    <tr>\n",
              "      <th>10099</th>\n",
              "      <td>1.0</td>\n",
              "      <td>0.679507</td>\n",
              "      <td>1</td>\n",
              "    </tr>\n",
              "  </tbody>\n",
              "</table>\n",
              "<p>10100 rows × 3 columns</p>\n",
              "</div>"
            ],
            "text/plain": [
              "         y     proba  ypred\n",
              "0      1.0  0.637387      1\n",
              "1      1.0  0.635165      1\n",
              "2      1.0  0.766586      1\n",
              "3      1.0  0.724564      1\n",
              "4      1.0  0.889199      1\n",
              "...    ...       ...    ...\n",
              "10095  1.0  0.665371      1\n",
              "10096  1.0  0.607961      1\n",
              "10097  1.0  0.777724      1\n",
              "10098  1.0  0.846036      1\n",
              "10099  1.0  0.679507      1\n",
              "\n",
              "[10100 rows x 3 columns]"
            ]
          },
          "metadata": {
            "tags": []
          },
          "execution_count": 64
        }
      ]
    },
    {
      "cell_type": "markdown",
      "metadata": {
        "id": "5Ea1OJX2Y6ZT",
        "colab_type": "text"
      },
      "source": [
        "### Confusion Matrix "
      ]
    },
    {
      "cell_type": "code",
      "metadata": {
        "id": "7JDXwh77Y6ZT",
        "colab_type": "code",
        "colab": {
          "base_uri": "https://localhost:8080/",
          "height": 34
        },
        "outputId": "9f5edc9b-82d9-406f-ce6e-3e8c3507d734"
      },
      "source": [
        "TP=0\n",
        "TN=0\n",
        "FP=0\n",
        "FN=0\n",
        "for i in range(len(data.ypred)):\n",
        "    if data.iloc[i][0]==0:\n",
        "        if data.iloc[i][2]==0:\n",
        "            TN=TN+1\n",
        "        elif data.iloc[i][2]==1:\n",
        "            FP+=1\n",
        "    elif data.iloc[i][0]==1:\n",
        "        if data.iloc[i][2]==1:\n",
        "            TP+=1\n",
        "        elif data.iloc[i][2]==0:\n",
        "            FN+=1\n",
        "print(TN,FN,TP,FP)               \n",
        "        "
      ],
      "execution_count": 65,
      "outputs": [
        {
          "output_type": "stream",
          "text": [
            "0 0 10000 100\n"
          ],
          "name": "stdout"
        }
      ]
    },
    {
      "cell_type": "markdown",
      "metadata": {
        "id": "qek07g_gY6ZW",
        "colab_type": "text"
      },
      "source": [
        "### F1 Score "
      ]
    },
    {
      "cell_type": "code",
      "metadata": {
        "id": "XCt0nP6tY6ZW",
        "colab_type": "code",
        "colab": {
          "base_uri": "https://localhost:8080/",
          "height": 67
        },
        "outputId": "f7370cfb-0465-482f-989d-40804f907887"
      },
      "source": [
        "Precision=(TP/(TP+FP))\n",
        "Recall=(TP/(TP+FN))\n",
        "F1_Score = ((2*Precision*Recall)/(Precision+Recall))\n",
        "print('Recall:',Recall)\n",
        "print('Precision:',Precision)\n",
        "print('F1_Score:',F1_Score)"
      ],
      "execution_count": 66,
      "outputs": [
        {
          "output_type": "stream",
          "text": [
            "Recall: 1.0\n",
            "Precision: 0.9900990099009901\n",
            "F1_Score: 0.9950248756218906\n"
          ],
          "name": "stdout"
        }
      ]
    },
    {
      "cell_type": "markdown",
      "metadata": {
        "id": "77JUMQR8Y6ZZ",
        "colab_type": "text"
      },
      "source": [
        "### Accuracy Score "
      ]
    },
    {
      "cell_type": "code",
      "metadata": {
        "id": "b1Y1xGw7Y6ZZ",
        "colab_type": "code",
        "colab": {
          "base_uri": "https://localhost:8080/",
          "height": 34
        },
        "outputId": "527420f3-b956-4176-8caa-ca1d3eab6899"
      },
      "source": [
        "accuracy_score=(TP+TN)/(TP+TN+FP+TN)\n",
        "print('Accuracy:',accuracy_score)"
      ],
      "execution_count": 67,
      "outputs": [
        {
          "output_type": "stream",
          "text": [
            "Accuracy: 0.9900990099009901\n"
          ],
          "name": "stdout"
        }
      ]
    },
    {
      "cell_type": "markdown",
      "metadata": {
        "id": "CKT2OEB4Y6Zc",
        "colab_type": "text"
      },
      "source": [
        "### AUC"
      ]
    },
    {
      "cell_type": "code",
      "metadata": {
        "id": "43cyvpxTY6Zd",
        "colab_type": "code",
        "colab": {}
      },
      "source": [
        "def AUC(data):\n",
        "    unique_prob = list(data.proba.unique())\n",
        "    unique_prob.sort(reverse=True)\n",
        "    tpr=[]\n",
        "    fpr=[]\n",
        "    \n",
        "    for i in unique_prob:\n",
        "        y_new=[]\n",
        "        \n",
        "        for j in data['proba']:\n",
        "            if (j<i):\n",
        "                y_new.append(0)\n",
        "            else :\n",
        "                y_new.append(1)\n",
        "        \n",
        "        \n",
        "        data['y_new_pred']=y_new \n",
        "        \n",
        "        tp = (((data['y'])==1) & ((data['y_new_pred'])==1)).sum()\n",
        "        fp = (((data['y'])==0) & ((data['y_new_pred'])==1)).sum()\n",
        "        fn = (((data['y'])==1) & ((data['y_new_pred'])==0)).sum()\n",
        "        tn = (((data['y'])==0) & ((data['y_new_pred'])==0)).sum()\n",
        "        \n",
        "        tpr.append(tp/(tp+fn))\n",
        "        fpr.append(fp/(fp+tn))\n",
        "        \n",
        "        \n",
        "    tpr_plot = sorted(tpr)\n",
        "    fpr_plot = sorted(fpr)\n",
        "    AUC = np.trapz(tpr_plot,fpr_plot)\n",
        "\n",
        "    print('AUC Score:{}'.format(AUC))"
      ],
      "execution_count": 68,
      "outputs": []
    },
    {
      "cell_type": "code",
      "metadata": {
        "id": "VdS4GGJTY6Zf",
        "colab_type": "code",
        "colab": {
          "base_uri": "https://localhost:8080/",
          "height": 34
        },
        "outputId": "f45327a8-79a0-4863-b99a-1c54fe8ce1c7"
      },
      "source": [
        "data=pd.read_csv('5_a.csv')\n",
        "AUC(data)\n"
      ],
      "execution_count": 69,
      "outputs": [
        {
          "output_type": "stream",
          "text": [
            "AUC Score:0.48829900000000004\n"
          ],
          "name": "stdout"
        }
      ]
    },
    {
      "cell_type": "markdown",
      "metadata": {
        "colab_type": "text",
        "id": "V5KZem1BQvn2"
      },
      "source": [
        "<pre>\n",
        "<font color='red'><b>B.</b></font> Compute performance metrics for the given data <strong>5_b.csv</strong>\n",
        "   <b>Note 1:</b> in this data you can see number of positive points << number of negatives points\n",
        "   <b>Note 2:</b> use pandas or numpy to read the data from <b>5_b.csv</b>\n",
        "   <b>Note 3:</b> you need to derive the class labels from given score</pre> $y^{pred}= \\text{[0 if y_score < 0.5 else 1]}$\n",
        "\n",
        "<pre>\n",
        "<ol>\n",
        "<li> Compute Confusion Matrix </li>\n",
        "<li> Compute F1 Score </li>\n",
        "<li> Compute AUC Score, you need to compute different thresholds and for each threshold compute tpr,fpr and then use               numpy.trapz(tpr_array, fpr_array) <a href='https://stackoverflow.com/q/53603376/4084039'>https://stackoverflow.com/q/53603376/4084039</a>, <a href='https://stackoverflow.com/a/39678975/4084039'>https://stackoverflow.com/a/39678975/4084039</a></li>\n",
        "<li> Compute Accuracy Score </li>\n",
        "</ol>\n",
        "</pre>"
      ]
    },
    {
      "cell_type": "code",
      "metadata": {
        "id": "QyERM2WCY6Zi",
        "colab_type": "code",
        "colab": {
          "base_uri": "https://localhost:8080/",
          "height": 343
        },
        "outputId": "1d486dc5-70fe-46bc-a21b-9b90b9d727a9"
      },
      "source": [
        "data=pd.read_csv(\"5_b.csv\")\n",
        "data.head(10)"
      ],
      "execution_count": 70,
      "outputs": [
        {
          "output_type": "execute_result",
          "data": {
            "text/html": [
              "<div>\n",
              "<style scoped>\n",
              "    .dataframe tbody tr th:only-of-type {\n",
              "        vertical-align: middle;\n",
              "    }\n",
              "\n",
              "    .dataframe tbody tr th {\n",
              "        vertical-align: top;\n",
              "    }\n",
              "\n",
              "    .dataframe thead th {\n",
              "        text-align: right;\n",
              "    }\n",
              "</style>\n",
              "<table border=\"1\" class=\"dataframe\">\n",
              "  <thead>\n",
              "    <tr style=\"text-align: right;\">\n",
              "      <th></th>\n",
              "      <th>y</th>\n",
              "      <th>proba</th>\n",
              "    </tr>\n",
              "  </thead>\n",
              "  <tbody>\n",
              "    <tr>\n",
              "      <th>0</th>\n",
              "      <td>0.0</td>\n",
              "      <td>0.281035</td>\n",
              "    </tr>\n",
              "    <tr>\n",
              "      <th>1</th>\n",
              "      <td>0.0</td>\n",
              "      <td>0.465152</td>\n",
              "    </tr>\n",
              "    <tr>\n",
              "      <th>2</th>\n",
              "      <td>0.0</td>\n",
              "      <td>0.352793</td>\n",
              "    </tr>\n",
              "    <tr>\n",
              "      <th>3</th>\n",
              "      <td>0.0</td>\n",
              "      <td>0.157818</td>\n",
              "    </tr>\n",
              "    <tr>\n",
              "      <th>4</th>\n",
              "      <td>0.0</td>\n",
              "      <td>0.276648</td>\n",
              "    </tr>\n",
              "    <tr>\n",
              "      <th>5</th>\n",
              "      <td>0.0</td>\n",
              "      <td>0.190260</td>\n",
              "    </tr>\n",
              "    <tr>\n",
              "      <th>6</th>\n",
              "      <td>0.0</td>\n",
              "      <td>0.320328</td>\n",
              "    </tr>\n",
              "    <tr>\n",
              "      <th>7</th>\n",
              "      <td>0.0</td>\n",
              "      <td>0.435013</td>\n",
              "    </tr>\n",
              "    <tr>\n",
              "      <th>8</th>\n",
              "      <td>0.0</td>\n",
              "      <td>0.284849</td>\n",
              "    </tr>\n",
              "    <tr>\n",
              "      <th>9</th>\n",
              "      <td>0.0</td>\n",
              "      <td>0.427919</td>\n",
              "    </tr>\n",
              "  </tbody>\n",
              "</table>\n",
              "</div>"
            ],
            "text/plain": [
              "     y     proba\n",
              "0  0.0  0.281035\n",
              "1  0.0  0.465152\n",
              "2  0.0  0.352793\n",
              "3  0.0  0.157818\n",
              "4  0.0  0.276648\n",
              "5  0.0  0.190260\n",
              "6  0.0  0.320328\n",
              "7  0.0  0.435013\n",
              "8  0.0  0.284849\n",
              "9  0.0  0.427919"
            ]
          },
          "metadata": {
            "tags": []
          },
          "execution_count": 70
        }
      ]
    },
    {
      "cell_type": "code",
      "metadata": {
        "id": "K3XCx50MY6Zk",
        "colab_type": "code",
        "colab": {
          "base_uri": "https://localhost:8080/",
          "height": 402
        },
        "outputId": "66a8ccd4-80de-4227-df44-116cbc6d7cc0"
      },
      "source": [
        "def computeprob(proba):\n",
        "    if proba>0.5:\n",
        "        return 1\n",
        "    else:\n",
        "        return 0\n",
        "    \n",
        "data['ypred']= data.apply(lambda x:computeprob(x.proba),axis=1)\n",
        "data\n",
        "    "
      ],
      "execution_count": 71,
      "outputs": [
        {
          "output_type": "execute_result",
          "data": {
            "text/html": [
              "<div>\n",
              "<style scoped>\n",
              "    .dataframe tbody tr th:only-of-type {\n",
              "        vertical-align: middle;\n",
              "    }\n",
              "\n",
              "    .dataframe tbody tr th {\n",
              "        vertical-align: top;\n",
              "    }\n",
              "\n",
              "    .dataframe thead th {\n",
              "        text-align: right;\n",
              "    }\n",
              "</style>\n",
              "<table border=\"1\" class=\"dataframe\">\n",
              "  <thead>\n",
              "    <tr style=\"text-align: right;\">\n",
              "      <th></th>\n",
              "      <th>y</th>\n",
              "      <th>proba</th>\n",
              "      <th>ypred</th>\n",
              "    </tr>\n",
              "  </thead>\n",
              "  <tbody>\n",
              "    <tr>\n",
              "      <th>0</th>\n",
              "      <td>0.0</td>\n",
              "      <td>0.281035</td>\n",
              "      <td>0</td>\n",
              "    </tr>\n",
              "    <tr>\n",
              "      <th>1</th>\n",
              "      <td>0.0</td>\n",
              "      <td>0.465152</td>\n",
              "      <td>0</td>\n",
              "    </tr>\n",
              "    <tr>\n",
              "      <th>2</th>\n",
              "      <td>0.0</td>\n",
              "      <td>0.352793</td>\n",
              "      <td>0</td>\n",
              "    </tr>\n",
              "    <tr>\n",
              "      <th>3</th>\n",
              "      <td>0.0</td>\n",
              "      <td>0.157818</td>\n",
              "      <td>0</td>\n",
              "    </tr>\n",
              "    <tr>\n",
              "      <th>4</th>\n",
              "      <td>0.0</td>\n",
              "      <td>0.276648</td>\n",
              "      <td>0</td>\n",
              "    </tr>\n",
              "    <tr>\n",
              "      <th>...</th>\n",
              "      <td>...</td>\n",
              "      <td>...</td>\n",
              "      <td>...</td>\n",
              "    </tr>\n",
              "    <tr>\n",
              "      <th>10095</th>\n",
              "      <td>0.0</td>\n",
              "      <td>0.474401</td>\n",
              "      <td>0</td>\n",
              "    </tr>\n",
              "    <tr>\n",
              "      <th>10096</th>\n",
              "      <td>0.0</td>\n",
              "      <td>0.128403</td>\n",
              "      <td>0</td>\n",
              "    </tr>\n",
              "    <tr>\n",
              "      <th>10097</th>\n",
              "      <td>0.0</td>\n",
              "      <td>0.499331</td>\n",
              "      <td>0</td>\n",
              "    </tr>\n",
              "    <tr>\n",
              "      <th>10098</th>\n",
              "      <td>0.0</td>\n",
              "      <td>0.157616</td>\n",
              "      <td>0</td>\n",
              "    </tr>\n",
              "    <tr>\n",
              "      <th>10099</th>\n",
              "      <td>0.0</td>\n",
              "      <td>0.296618</td>\n",
              "      <td>0</td>\n",
              "    </tr>\n",
              "  </tbody>\n",
              "</table>\n",
              "<p>10100 rows × 3 columns</p>\n",
              "</div>"
            ],
            "text/plain": [
              "         y     proba  ypred\n",
              "0      0.0  0.281035      0\n",
              "1      0.0  0.465152      0\n",
              "2      0.0  0.352793      0\n",
              "3      0.0  0.157818      0\n",
              "4      0.0  0.276648      0\n",
              "...    ...       ...    ...\n",
              "10095  0.0  0.474401      0\n",
              "10096  0.0  0.128403      0\n",
              "10097  0.0  0.499331      0\n",
              "10098  0.0  0.157616      0\n",
              "10099  0.0  0.296618      0\n",
              "\n",
              "[10100 rows x 3 columns]"
            ]
          },
          "metadata": {
            "tags": []
          },
          "execution_count": 71
        }
      ]
    },
    {
      "cell_type": "markdown",
      "metadata": {
        "id": "wfNQywMUgO-1",
        "colab_type": "text"
      },
      "source": [
        "**Confusion Matrix**"
      ]
    },
    {
      "cell_type": "code",
      "metadata": {
        "colab_type": "code",
        "id": "U2sKlq0YQvn5",
        "colab": {
          "base_uri": "https://localhost:8080/",
          "height": 34
        },
        "outputId": "66ac19f2-ddde-469e-e7dd-890e04630e2e"
      },
      "source": [
        "TP=0\n",
        "TN=0\n",
        "FP=0\n",
        "FN=0\n",
        "for i in range(len(data.ypred)):\n",
        "    if data.iloc[i][0]==0:\n",
        "        if data.iloc[i][2]==0:\n",
        "            TN=TN+1\n",
        "        elif data.iloc[i][2]==1:\n",
        "            FP+=1\n",
        "    elif data.iloc[i][0]==1:\n",
        "        if data.iloc[i][2]==1:\n",
        "            TP+=1\n",
        "        elif data.iloc[i][2]==0:\n",
        "            FN+=1\n",
        "print(TN,FN,TP,FP)               \n",
        "        "
      ],
      "execution_count": 72,
      "outputs": [
        {
          "output_type": "stream",
          "text": [
            "9761 45 55 239\n"
          ],
          "name": "stdout"
        }
      ]
    },
    {
      "cell_type": "markdown",
      "metadata": {
        "id": "PCsAbD2KgX3u",
        "colab_type": "text"
      },
      "source": [
        "**F1 Score**"
      ]
    },
    {
      "cell_type": "code",
      "metadata": {
        "id": "Nmx6DcU-aRvw",
        "colab_type": "code",
        "colab": {
          "base_uri": "https://localhost:8080/",
          "height": 67
        },
        "outputId": "69ac5946-da6f-4351-b0b0-7ba6122e8bf6"
      },
      "source": [
        "Precision=(TP/(TP+FP))\n",
        "Recall=(TP/(TP+FN))\n",
        "F1_Score = ((2*Precision*Recall)/(Precision+Recall))\n",
        "print('Recall:',Recall)\n",
        "print('Precision:',Precision)\n",
        "print('F1_Score:',F1_Score)"
      ],
      "execution_count": 73,
      "outputs": [
        {
          "output_type": "stream",
          "text": [
            "Recall: 0.55\n",
            "Precision: 0.1870748299319728\n",
            "F1_Score: 0.2791878172588833\n"
          ],
          "name": "stdout"
        }
      ]
    },
    {
      "cell_type": "markdown",
      "metadata": {
        "id": "5ENYUcOfgkwJ",
        "colab_type": "text"
      },
      "source": [
        "**ACCURACY_SCORE**"
      ]
    },
    {
      "cell_type": "code",
      "metadata": {
        "id": "CZIXQaZZaR_X",
        "colab_type": "code",
        "colab": {
          "base_uri": "https://localhost:8080/",
          "height": 34
        },
        "outputId": "89b79956-8cf2-4ac3-a61a-1ceddff264f1"
      },
      "source": [
        "accuracy_score=(TP+TN)/(TP+TN+FP+TN)\n",
        "print('Accuracy:',accuracy_score)"
      ],
      "execution_count": 74,
      "outputs": [
        {
          "output_type": "stream",
          "text": [
            "Accuracy: 0.49535728704077514\n"
          ],
          "name": "stdout"
        }
      ]
    },
    {
      "cell_type": "markdown",
      "metadata": {
        "id": "KEPf0hpDgrcj",
        "colab_type": "text"
      },
      "source": [
        "**AUC**"
      ]
    },
    {
      "cell_type": "code",
      "metadata": {
        "id": "qF000l6vaSDP",
        "colab_type": "code",
        "colab": {}
      },
      "source": [
        "def AUC(data):\n",
        "    unique_prob = list(data.proba.unique())\n",
        "    unique_prob.sort(reverse=True)\n",
        "    tpr=[]\n",
        "    fpr=[]\n",
        "    \n",
        "    for i in unique_prob:\n",
        "        y_new=[]\n",
        "        \n",
        "        for j in data['proba']:\n",
        "            if (j<i):\n",
        "                y_new.append(0)\n",
        "            else :\n",
        "                y_new.append(1)\n",
        "        \n",
        "        \n",
        "        data['y_new_pred']=y_new \n",
        "        \n",
        "        tp = (((data['y'])==1) & ((data['y_new_pred'])==1)).sum()\n",
        "        fp = (((data['y'])==0) & ((data['y_new_pred'])==1)).sum()\n",
        "        fn = (((data['y'])==1) & ((data['y_new_pred'])==0)).sum()\n",
        "        tn = (((data['y'])==0) & ((data['y_new_pred'])==0)).sum()\n",
        "        \n",
        "        tpr.append(tp/(tp+fn))\n",
        "        fpr.append(fp/(fp+tn))\n",
        "        \n",
        "        \n",
        "    tpr_plot = sorted(tpr)\n",
        "    fpr_plot = sorted(fpr)\n",
        "    AUC = np.trapz(tpr_plot,fpr_plot)\n",
        "\n",
        "    print('AUC Score:{}'.format(AUC))"
      ],
      "execution_count": 75,
      "outputs": []
    },
    {
      "cell_type": "code",
      "metadata": {
        "id": "iN5QahCkako9",
        "colab_type": "code",
        "colab": {
          "base_uri": "https://localhost:8080/",
          "height": 34
        },
        "outputId": "e6acf3e8-c6ad-4508-9694-23ec81fec781"
      },
      "source": [
        "data=pd.read_csv('5_b.csv')\n",
        "AUC(data)"
      ],
      "execution_count": 76,
      "outputs": [
        {
          "output_type": "stream",
          "text": [
            "AUC Score:0.9377570000000001\n"
          ],
          "name": "stdout"
        }
      ]
    },
    {
      "cell_type": "markdown",
      "metadata": {
        "colab_type": "text",
        "id": "GiPGonTzQvoB"
      },
      "source": [
        "<font color='red'><b>C.</b></font> Compute the best threshold (similarly to ROC curve computation) of probability which gives lowest values of metric <b>A</b> for the given data <strong>5_c.csv</strong>\n",
        "<br>\n",
        "\n",
        "you will be predicting label of a data points like this: $y^{pred}= \\text{[0 if y_score < threshold  else 1]}$\n",
        "\n",
        "$ A = 500 \\times \\text{number of false negative} + 100 \\times \\text{numebr of false positive}$\n",
        "\n",
        "<pre>\n",
        "   <b>Note 1:</b> in this data you can see number of negative points > number of positive points\n",
        "   <b>Note 2:</b> use pandas or numpy to read the data from <b>5_c.csv</b>\n",
        "</pre>"
      ]
    },
    {
      "cell_type": "code",
      "metadata": {
        "id": "eoc1EJhPaRGt",
        "colab_type": "code",
        "colab": {}
      },
      "source": [
        ""
      ],
      "execution_count": 76,
      "outputs": []
    },
    {
      "cell_type": "code",
      "metadata": {
        "colab_type": "code",
        "id": "x5HIJzq1QvoE",
        "colab": {
          "base_uri": "https://localhost:8080/",
          "height": 50
        },
        "outputId": "7caa9d5c-503f-4c7b-818a-f3a4d725a42e"
      },
      "source": [
        "\n",
        "data=pd.read_csv('5_c.csv')\n",
        "unique_prob = list(data.prob.unique())\n",
        "unique_prob.sort(reverse=True)\n",
        "\n",
        "res=[]\n",
        "for i in unique_prob: \n",
        "    y_new=[] \n",
        "\n",
        "    for j in data['prob']:\n",
        "        if (j<=i):\n",
        "            y_new.append(0)\n",
        "        else :\n",
        "            y_new.append(1)\n",
        "\n",
        "\n",
        "    data['y_new_pred']=y_new  \n",
        "\n",
        "    \n",
        "    fp = (((data['y'])==0) & ((data['y_new_pred'])==1)).sum()\n",
        "    fn = (((data['y'])==1) & ((data['y_new_pred'])==0)).sum()\n",
        "    res.append((500*fn) +(100*fp)) \n",
        "    \n",
        "\n",
        "uniq=unique_prob[res.index(min(res))]\n",
        "\n",
        "A=min(res)\n",
        "print('Threshold {}'.format(uniq))\n",
        "print('Min value  {}'.format(A))"
      ],
      "execution_count": 77,
      "outputs": [
        {
          "output_type": "stream",
          "text": [
            "Threshold 0.22987164436159915\n",
            "Min value  141000\n"
          ],
          "name": "stdout"
        }
      ]
    },
    {
      "cell_type": "markdown",
      "metadata": {
        "colab_type": "text",
        "id": "sD4CcgjXQvoL"
      },
      "source": [
        "<pre>\n",
        "<font color='red'><b>D.</b></font> Compute performance metrics(for regression) for the given data <strong>5_d.csv</strong>\n",
        "    <b>Note 2:</b> use pandas or numpy to read the data from <b>5_d.csv</b>\n",
        "    <b>Note 1:</b> <b>5_d.csv</b> will having two columns Y and predicted_Y both are real valued features\n",
        "<ol>\n",
        "<li> Compute Mean Square Error </li>\n",
        "<li> Compute MAPE: https://www.youtube.com/watch?v=ly6ztgIkUxk</li>\n",
        "<li> Compute R^2 error: https://en.wikipedia.org/wiki/Coefficient_of_determination#Definitions </li>\n",
        "</ol>\n",
        "</pre>"
      ]
    },
    {
      "cell_type": "code",
      "metadata": {
        "id": "k-flACYJkGW0",
        "colab_type": "code",
        "colab": {}
      },
      "source": [
        "data=pd.read_csv('5_d.csv')"
      ],
      "execution_count": 78,
      "outputs": []
    },
    {
      "cell_type": "code",
      "metadata": {
        "id": "pIH0HHURk8eG",
        "colab_type": "code",
        "colab": {
          "base_uri": "https://localhost:8080/",
          "height": 195
        },
        "outputId": "0afb92c3-69ba-4d88-a827-92421dc720f8"
      },
      "source": [
        "data.head()"
      ],
      "execution_count": 79,
      "outputs": [
        {
          "output_type": "execute_result",
          "data": {
            "text/html": [
              "<div>\n",
              "<style scoped>\n",
              "    .dataframe tbody tr th:only-of-type {\n",
              "        vertical-align: middle;\n",
              "    }\n",
              "\n",
              "    .dataframe tbody tr th {\n",
              "        vertical-align: top;\n",
              "    }\n",
              "\n",
              "    .dataframe thead th {\n",
              "        text-align: right;\n",
              "    }\n",
              "</style>\n",
              "<table border=\"1\" class=\"dataframe\">\n",
              "  <thead>\n",
              "    <tr style=\"text-align: right;\">\n",
              "      <th></th>\n",
              "      <th>y</th>\n",
              "      <th>pred</th>\n",
              "    </tr>\n",
              "  </thead>\n",
              "  <tbody>\n",
              "    <tr>\n",
              "      <th>0</th>\n",
              "      <td>101.0</td>\n",
              "      <td>100.0</td>\n",
              "    </tr>\n",
              "    <tr>\n",
              "      <th>1</th>\n",
              "      <td>120.0</td>\n",
              "      <td>100.0</td>\n",
              "    </tr>\n",
              "    <tr>\n",
              "      <th>2</th>\n",
              "      <td>131.0</td>\n",
              "      <td>113.0</td>\n",
              "    </tr>\n",
              "    <tr>\n",
              "      <th>3</th>\n",
              "      <td>164.0</td>\n",
              "      <td>125.0</td>\n",
              "    </tr>\n",
              "    <tr>\n",
              "      <th>4</th>\n",
              "      <td>154.0</td>\n",
              "      <td>152.0</td>\n",
              "    </tr>\n",
              "  </tbody>\n",
              "</table>\n",
              "</div>"
            ],
            "text/plain": [
              "       y   pred\n",
              "0  101.0  100.0\n",
              "1  120.0  100.0\n",
              "2  131.0  113.0\n",
              "3  164.0  125.0\n",
              "4  154.0  152.0"
            ]
          },
          "metadata": {
            "tags": []
          },
          "execution_count": 79
        }
      ]
    },
    {
      "cell_type": "code",
      "metadata": {
        "id": "Hl-C7E9ek_lr",
        "colab_type": "code",
        "colab": {}
      },
      "source": [
        "def MeanSquareErorr(data):\n",
        "    length=len(data)\n",
        "    mse=0\n",
        "    for i in range(len(data)):\n",
        "        val = (data['y'][i] - data['pred'][i]) ** 2\n",
        "        mse = mse + val           \n",
        "    mse=1/(length) * mse \n",
        "    return mse"
      ],
      "execution_count": 80,
      "outputs": []
    },
    {
      "cell_type": "code",
      "metadata": {
        "id": "TSZwgYnylQDx",
        "colab_type": "code",
        "colab": {
          "base_uri": "https://localhost:8080/",
          "height": 34
        },
        "outputId": "e966cf43-2064-4f4f-ec62-4b6a31620d6a"
      },
      "source": [
        "MeanSquareErorr(data)"
      ],
      "execution_count": 81,
      "outputs": [
        {
          "output_type": "execute_result",
          "data": {
            "text/plain": [
              "177.16569974554707"
            ]
          },
          "metadata": {
            "tags": []
          },
          "execution_count": 81
        }
      ]
    },
    {
      "cell_type": "code",
      "metadata": {
        "id": "W4WfmvAclbC_",
        "colab_type": "code",
        "colab": {}
      },
      "source": [
        "def mape(data):\n",
        "    length=len(data)\n",
        "    numerator=0\n",
        "    denominator=0\n",
        "    for i in range(len(data)):\n",
        "        numerator+= abs(data['y'][i] - data['pred'][i]) \n",
        "        denominator+= (data['y'][i])\n",
        "    mape = (numerator / denominator) * 100\n",
        "    return mape"
      ],
      "execution_count": 82,
      "outputs": []
    },
    {
      "cell_type": "code",
      "metadata": {
        "id": "K35xMLM7mfGK",
        "colab_type": "code",
        "colab": {
          "base_uri": "https://localhost:8080/",
          "height": 34
        },
        "outputId": "c95f4d23-539e-4592-8429-13779fe0b43c"
      },
      "source": [
        "mape(data)"
      ],
      "execution_count": 83,
      "outputs": [
        {
          "output_type": "execute_result",
          "data": {
            "text/plain": [
              "12.91202994009687"
            ]
          },
          "metadata": {
            "tags": []
          },
          "execution_count": 83
        }
      ]
    },
    {
      "cell_type": "code",
      "metadata": {
        "id": "HnPmNimXmiUd",
        "colab_type": "code",
        "colab": {}
      },
      "source": [
        "def rsquare(data):\n",
        "    length=len(data)\n",
        "    ss_res=0\n",
        "    ss_total=0\n",
        "    mean=0\n",
        "    mean =np.mean(data['y'])\n",
        "    for i in range(length):\n",
        "        ss_total += (data['y'][i] - mean)**2\n",
        "        ss_res += (data['y'][i] - data['pred'][i])**2\n",
        "    R_square = 1 -(ss_res/ss_total)\n",
        "\n",
        "    return R_square"
      ],
      "execution_count": 84,
      "outputs": []
    },
    {
      "cell_type": "code",
      "metadata": {
        "id": "pCSlACOonRaE",
        "colab_type": "code",
        "colab": {
          "base_uri": "https://localhost:8080/",
          "height": 34
        },
        "outputId": "c9d04d60-205b-4bdf-deeb-ca3fde9241ce"
      },
      "source": [
        "rsquare(data)"
      ],
      "execution_count": 85,
      "outputs": [
        {
          "output_type": "execute_result",
          "data": {
            "text/plain": [
              "0.9563582786990964"
            ]
          },
          "metadata": {
            "tags": []
          },
          "execution_count": 85
        }
      ]
    },
    {
      "cell_type": "code",
      "metadata": {
        "id": "YBfQA3_onq4H",
        "colab_type": "code",
        "colab": {}
      },
      "source": [
        ""
      ],
      "execution_count": 85,
      "outputs": []
    }
  ]
}